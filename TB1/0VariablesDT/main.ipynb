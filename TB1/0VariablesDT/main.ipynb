{
 "cells": [
  {
   "cell_type": "markdown",
   "id": "874f10a9",
   "metadata": {},
   "source": [
    "Variables, Data Types & Type Casting"
   ]
  },
  {
   "cell_type": "code",
   "execution_count": null,
   "id": "52a9fe69",
   "metadata": {},
   "outputs": [],
   "source": [
    "# This is a comment\n",
    "This is code"
   ]
  }
 ],
 "metadata": {
  "language_info": {
   "name": "python"
  }
 },
 "nbformat": 4,
 "nbformat_minor": 5
}
