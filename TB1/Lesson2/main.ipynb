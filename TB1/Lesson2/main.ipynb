{
 "cells": [
  {
   "cell_type": "markdown",
   "id": "7a5648b3",
   "metadata": {},
   "source": [
    "Lists & Dictionaries"
   ]
  },
  {
   "cell_type": "markdown",
   "id": "7bf9e20a",
   "metadata": {},
   "source": []
  }
 ],
 "metadata": {
  "language_info": {
   "name": "python"
  }
 },
 "nbformat": 4,
 "nbformat_minor": 5
}
